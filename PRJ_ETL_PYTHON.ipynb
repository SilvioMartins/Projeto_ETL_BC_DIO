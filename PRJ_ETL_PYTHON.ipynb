{
 "metadata": {
  "language_info": {
   "codemirror_mode": {
    "name": "ipython",
    "version": 3
   },
   "file_extension": ".py",
   "mimetype": "text/x-python",
   "name": "python",
   "nbconvert_exporter": "python",
   "pygments_lexer": "ipython3",
   "version": "3.9.4"
  },
  "orig_nbformat": 4,
  "kernelspec": {
   "name": "python3",
   "display_name": "Python 3.9.4 64-bit"
  },
  "interpreter": {
   "hash": "99895b1fb5777b62bbca485c28947babc49174d82e5a9d257e359cdc2b435eee"
  }
 },
 "nbformat": 4,
 "nbformat_minor": 2,
 "cells": [
  {
   "cell_type": "markdown",
   "source": [
    "# PROJETO ETL - Análise do desempenho dos alunos do Ceará no ENEM 2019\r\n",
    "\r\n",
    "## PARTE I - Extraindo os dados"
   ],
   "metadata": {}
  },
  {
   "cell_type": "code",
   "execution_count": null,
   "source": [
    "#Instalação/Aualizaç da bilbioteca dask para gerenciamento de datframe de grandes tamanhos. Será Utilizada ao invés do Pandas \r\n",
    "#devido ao tamanho do arquivo .csv\r\n",
    "!pip install dask\r\n",
    "!pip install --upgrade pandas"
   ],
   "outputs": [],
   "metadata": {}
  },
  {
   "cell_type": "markdown",
   "source": [
    "### 1.0 - Importação de bibliotecas Úteis"
   ],
   "metadata": {}
  },
  {
   "cell_type": "code",
   "execution_count": 1,
   "source": [
    "#importação de Bibliotecas\r\n",
    "import dask.dataframe as dd\r\n",
    "import pandas as pd\r\n",
    "import zipfile\r\n",
    "import requests\r\n",
    "import os\r\n",
    "from io import BytesIO"
   ],
   "outputs": [],
   "metadata": {}
  },
  {
   "cell_type": "markdown",
   "source": [
    "### 2.0 - Preparação do Ambiente (Criação de Pasta) e Efetuando Download do Arquivo do Site do Inep"
   ],
   "metadata": {}
  },
  {
   "cell_type": "code",
   "execution_count": 4,
   "source": [
    "#Criar estrutura de pastas para armazenamento do arquivo baixado\r\n",
    "os.makedirs('./enem2019', exist_ok=True)"
   ],
   "outputs": [],
   "metadata": {}
  },
  {
   "cell_type": "code",
   "execution_count": 5,
   "source": [
    "#Baixando o arquivo do link abaixo e descompactando na pasta /enem2019\r\n",
    "#URL dos dados\r\n",
    "url = 'https://download.inep.gov.br/microdados/microdados_enem_2019.zip'\r\n",
    "#Baixando o Arquivo .ZIP\r\n",
    "print('Baixando o Arquivo....')\r\n",
    "filebytes = BytesIO(\r\n",
    "    requests.get(url).content\r\n",
    ")\r\n",
    "#Descompatando na pasta destino\r\n",
    "print('Download Concluído. Aguarde a descompactação....')\r\n",
    "myzip = zipfile.ZipFile(filebytes).extractall('./enem2019')\r\n",
    "print('Processamento Concluído.')"
   ],
   "outputs": [],
   "metadata": {}
  },
  {
   "cell_type": "markdown",
   "source": [
    "### 3.0 - Lendo os dados em lote (Arquivo Muito Grande) e colocando em um dataframe já Filtrado por Estado = Ceará"
   ],
   "metadata": {}
  },
  {
   "cell_type": "code",
   "execution_count": 2,
   "source": [
    "# Cria dataframe com mais memória devido ao tamanho do arquivo\r\n",
    "enem = dd.read_csv(\r\n",
    "    './enem2019/DADOS/microdados_enem_2019.csv',\r\n",
    "    sep = ';' , \r\n",
    "    decimal=',' ,\r\n",
    "    dtype={'CO_MUNICIPIO_NASCIMENTO': 'float64',\r\n",
    "            'CO_UF_NASCIMENTO': 'float64',\r\n",
    "            'NU_IDADE': 'float64',\r\n",
    "            'NO_MUNICIPIO_ESC': 'object',\r\n",
    "            'SG_UF_ESC': 'object'},\r\n",
    "    encoding='latin1'\r\n",
    ")"
   ],
   "outputs": [],
   "metadata": {}
  },
  {
   "cell_type": "code",
   "execution_count": 3,
   "source": [
    "#Recriando o Dataframe Só para Ceará = Processo de Filtragem\r\n",
    "enem = enem.loc[enem.SG_UF_RESIDENCIA == 'CE']"
   ],
   "outputs": [],
   "metadata": {}
  },
  {
   "cell_type": "markdown",
   "source": [
    "## PARTE II - Transformando os dados"
   ],
   "metadata": {}
  },
  {
   "cell_type": "code",
   "execution_count": 4,
   "source": [
    "#Recriando o Dataframe só com as colunas necessárias\r\n",
    "enem_ce = enem[['NU_INSCRICAO',         \r\n",
    "                'SG_UF_RESIDENCIA',     \r\n",
    "                'TP_SEXO',\r\n",
    "                'TP_COR_RACA',\r\n",
    "                'TP_ESCOLA',\r\n",
    "                'TP_ENSINO',\r\n",
    "                'NU_NOTA_CN',\r\n",
    "                'NU_NOTA_MT',\r\n",
    "                'Q001',\r\n",
    "                'Q002',\r\n",
    "                'Q004',\r\n",
    "                'Q005',\r\n",
    "                'Q006']].compute()"
   ],
   "outputs": [],
   "metadata": {}
  },
  {
   "cell_type": "code",
   "execution_count": 7,
   "source": [
    "#Analisando Quantidade de Nulos no Dataframe\r\n",
    "enem_ce.isnull().sum()"
   ],
   "outputs": [
    {
     "output_type": "execute_result",
     "data": {
      "text/plain": [
       "NU_INSCRICAO            0\n",
       "SG_UF_RESIDENCIA        0\n",
       "TP_SEXO                 0\n",
       "TP_COR_RACA             0\n",
       "TP_ESCOLA               0\n",
       "TP_ENSINO           75865\n",
       "NU_NOTA_CN              0\n",
       "NU_NOTA_MT              0\n",
       "Q001                    0\n",
       "Q002                    0\n",
       "Q004                    0\n",
       "Q005                    0\n",
       "Q006                    0\n",
       "dtype: int64"
      ]
     },
     "metadata": {},
     "execution_count": 7
    }
   ],
   "metadata": {}
  },
  {
   "cell_type": "code",
   "execution_count": 8,
   "source": [
    "#Cria backuo do DataFrame\r\n",
    "Enem_bkp = enem_ce"
   ],
   "outputs": [],
   "metadata": {}
  },
  {
   "cell_type": "code",
   "execution_count": 6,
   "source": [
    "#Apagando as Linhas com Notas Zeradas - Excluindos Alunos Faltantes\r\n",
    "enem_ce = enem_ce.dropna(subset=['NU_NOTA_MT'])"
   ],
   "outputs": [],
   "metadata": {}
  },
  {
   "cell_type": "code",
   "execution_count": 9,
   "source": [
    "#Quantidade de Linhas\r\n",
    "enem_ce.shape[0]"
   ],
   "outputs": [
    {
     "output_type": "execute_result",
     "data": {
      "text/plain": [
       "222780"
      ]
     },
     "metadata": {},
     "execution_count": 9
    }
   ],
   "metadata": {}
  },
  {
   "cell_type": "code",
   "execution_count": 40,
   "source": [
    "#Verificando os Tipos de Dados do Dataframe\r\n",
    "enem_ce.dtypes"
   ],
   "outputs": [
    {
     "output_type": "execute_result",
     "data": {
      "text/plain": [
       "NU_INSCRICAO          int64\n",
       "SG_UF_RESIDENCIA     object\n",
       "TP_SEXO              object\n",
       "TP_COR_RACA           int64\n",
       "TP_ESCOLA             int64\n",
       "TP_ENSINO           float64\n",
       "NU_NOTA_CN          float64\n",
       "NU_NOTA_MT          float64\n",
       "Q001                 object\n",
       "Q002                 object\n",
       "Q004                 object\n",
       "Q005                  int64\n",
       "Q006                 object\n",
       "dtype: object"
      ]
     },
     "metadata": {},
     "execution_count": 40
    }
   ],
   "metadata": {}
  },
  {
   "cell_type": "code",
   "execution_count": 11,
   "source": [
    "#Atualizando Tipos de Dados de Colunas Importantes\r\n",
    "enem_ce['NU_NOTA_CN'] = enem_ce['NU_NOTA_CN'].astype('float')\r\n",
    "enem_ce['NU_NOTA_MT'] = enem_ce['NU_NOTA_MT'].astype('float')"
   ],
   "outputs": [],
   "metadata": {}
  },
  {
   "cell_type": "code",
   "execution_count": 13,
   "source": [
    "#Analise detalhada do Dataframe\r\n",
    "enem_ce.describe()"
   ],
   "outputs": [
    {
     "output_type": "execute_result",
     "data": {
      "text/plain": [
       "       NU_INSCRICAO    TP_COR_RACA      TP_ESCOLA      TP_ENSINO  \\\n",
       "count  2.227800e+05  222780.000000  222780.000000  146915.000000   \n",
       "mean   1.900030e+11       2.443016       1.461379       1.002001   \n",
       "std    1.408311e+06       0.956225       0.573180       0.044690   \n",
       "min    1.900010e+11       0.000000       1.000000       1.000000   \n",
       "25%    1.900019e+11       2.000000       1.000000       1.000000   \n",
       "50%    1.900028e+11       3.000000       1.000000       1.000000   \n",
       "75%    1.900042e+11       3.000000       2.000000       1.000000   \n",
       "max    1.900061e+11       5.000000       3.000000       2.000000   \n",
       "\n",
       "          NU_NOTA_CN     NU_NOTA_MT           Q005  \n",
       "count  222780.000000  222780.000000  222780.000000  \n",
       "mean      468.256969     517.529065       4.105333  \n",
       "std        75.815679     109.034242       1.450371  \n",
       "min         0.000000       0.000000       1.000000  \n",
       "25%       409.300000     431.900000       3.000000  \n",
       "50%       457.500000     492.700000       4.000000  \n",
       "75%       520.800000     587.800000       5.000000  \n",
       "max       841.800000     985.500000      20.000000  "
      ],
      "text/html": [
       "<div>\n",
       "<style scoped>\n",
       "    .dataframe tbody tr th:only-of-type {\n",
       "        vertical-align: middle;\n",
       "    }\n",
       "\n",
       "    .dataframe tbody tr th {\n",
       "        vertical-align: top;\n",
       "    }\n",
       "\n",
       "    .dataframe thead th {\n",
       "        text-align: right;\n",
       "    }\n",
       "</style>\n",
       "<table border=\"1\" class=\"dataframe\">\n",
       "  <thead>\n",
       "    <tr style=\"text-align: right;\">\n",
       "      <th></th>\n",
       "      <th>NU_INSCRICAO</th>\n",
       "      <th>TP_COR_RACA</th>\n",
       "      <th>TP_ESCOLA</th>\n",
       "      <th>TP_ENSINO</th>\n",
       "      <th>NU_NOTA_CN</th>\n",
       "      <th>NU_NOTA_MT</th>\n",
       "      <th>Q005</th>\n",
       "    </tr>\n",
       "  </thead>\n",
       "  <tbody>\n",
       "    <tr>\n",
       "      <th>count</th>\n",
       "      <td>2.227800e+05</td>\n",
       "      <td>222780.000000</td>\n",
       "      <td>222780.000000</td>\n",
       "      <td>146915.000000</td>\n",
       "      <td>222780.000000</td>\n",
       "      <td>222780.000000</td>\n",
       "      <td>222780.000000</td>\n",
       "    </tr>\n",
       "    <tr>\n",
       "      <th>mean</th>\n",
       "      <td>1.900030e+11</td>\n",
       "      <td>2.443016</td>\n",
       "      <td>1.461379</td>\n",
       "      <td>1.002001</td>\n",
       "      <td>468.256969</td>\n",
       "      <td>517.529065</td>\n",
       "      <td>4.105333</td>\n",
       "    </tr>\n",
       "    <tr>\n",
       "      <th>std</th>\n",
       "      <td>1.408311e+06</td>\n",
       "      <td>0.956225</td>\n",
       "      <td>0.573180</td>\n",
       "      <td>0.044690</td>\n",
       "      <td>75.815679</td>\n",
       "      <td>109.034242</td>\n",
       "      <td>1.450371</td>\n",
       "    </tr>\n",
       "    <tr>\n",
       "      <th>min</th>\n",
       "      <td>1.900010e+11</td>\n",
       "      <td>0.000000</td>\n",
       "      <td>1.000000</td>\n",
       "      <td>1.000000</td>\n",
       "      <td>0.000000</td>\n",
       "      <td>0.000000</td>\n",
       "      <td>1.000000</td>\n",
       "    </tr>\n",
       "    <tr>\n",
       "      <th>25%</th>\n",
       "      <td>1.900019e+11</td>\n",
       "      <td>2.000000</td>\n",
       "      <td>1.000000</td>\n",
       "      <td>1.000000</td>\n",
       "      <td>409.300000</td>\n",
       "      <td>431.900000</td>\n",
       "      <td>3.000000</td>\n",
       "    </tr>\n",
       "    <tr>\n",
       "      <th>50%</th>\n",
       "      <td>1.900028e+11</td>\n",
       "      <td>3.000000</td>\n",
       "      <td>1.000000</td>\n",
       "      <td>1.000000</td>\n",
       "      <td>457.500000</td>\n",
       "      <td>492.700000</td>\n",
       "      <td>4.000000</td>\n",
       "    </tr>\n",
       "    <tr>\n",
       "      <th>75%</th>\n",
       "      <td>1.900042e+11</td>\n",
       "      <td>3.000000</td>\n",
       "      <td>2.000000</td>\n",
       "      <td>1.000000</td>\n",
       "      <td>520.800000</td>\n",
       "      <td>587.800000</td>\n",
       "      <td>5.000000</td>\n",
       "    </tr>\n",
       "    <tr>\n",
       "      <th>max</th>\n",
       "      <td>1.900061e+11</td>\n",
       "      <td>5.000000</td>\n",
       "      <td>3.000000</td>\n",
       "      <td>2.000000</td>\n",
       "      <td>841.800000</td>\n",
       "      <td>985.500000</td>\n",
       "      <td>20.000000</td>\n",
       "    </tr>\n",
       "  </tbody>\n",
       "</table>\n",
       "</div>"
      ]
     },
     "metadata": {},
     "execution_count": 13
    }
   ],
   "metadata": {}
  },
  {
   "cell_type": "markdown",
   "source": [
    "### Retirando alguns Insights"
   ],
   "metadata": {}
  },
  {
   "cell_type": "code",
   "execution_count": 24,
   "source": [
    "#Percentual dde Participação por Sexo DEclarado o Enem no Ceará\r\n",
    "round((enem_ce.TP_SEXO.value_counts() / enem_ce.shape[0] ) * 100,2)"
   ],
   "outputs": [
    {
     "output_type": "execute_result",
     "data": {
      "text/plain": [
       "F    56.11\n",
       "M    43.89\n",
       "Name: TP_SEXO, dtype: float64"
      ]
     },
     "metadata": {},
     "execution_count": 24
    }
   ],
   "metadata": {}
  },
  {
   "cell_type": "code",
   "execution_count": 17,
   "source": [
    "#Média geral de Matemática dos alunos Cearenses\r\n",
    "print('Média Geral de Matemática: ', round(enem_ce['NU_NOTA_MT'].mean(),2))"
   ],
   "outputs": [
    {
     "output_type": "stream",
     "name": "stdout",
     "text": [
      "Média Geral de Matematica:  517.53\n"
     ]
    }
   ],
   "metadata": {}
  },
  {
   "cell_type": "code",
   "execution_count": 21,
   "source": [
    "#Média geral de Matemática dos alunos de Escola Particular \r\n",
    "print('Média Geral de Matemática (Particular): ', round(enem_ce['NU_NOTA_MT'].loc[enem_ce.TP_ESCOLA == 3].mean(),2))"
   ],
   "outputs": [
    {
     "output_type": "stream",
     "name": "stdout",
     "text": [
      "Média Geral de Matemática (Particular):  625.95\n"
     ]
    }
   ],
   "metadata": {}
  },
  {
   "cell_type": "code",
   "execution_count": 28,
   "source": [
    "#Média geral de Matemática dos alunos de Escola Pública \r\n",
    "print('Média Geral de Matemática (Pública): ', round(enem_ce['NU_NOTA_MT'].loc[enem_ce.TP_ESCOLA == 2].mean(),2))"
   ],
   "outputs": [
    {
     "output_type": "stream",
     "name": "stdout",
     "text": [
      "Média Geral de Matemática (Pública):  488.57\n"
     ]
    }
   ],
   "metadata": {}
  },
  {
   "cell_type": "code",
   "execution_count": 27,
   "source": [
    "#Comparação de Médias de Matemática por raça declarada\r\n",
    "print('Média Matemática (Não Declarados): ', round(enem_ce['NU_NOTA_MT'].loc[enem_ce.TP_COR_RACA == 0].mean(),2))\r\n",
    "print('Média Matemática (Branco)        : ', round(enem_ce['NU_NOTA_MT'].loc[enem_ce.TP_COR_RACA == 1].mean(),2))\r\n",
    "print('Média Matemática (Preto)         : ', round(enem_ce['NU_NOTA_MT'].loc[enem_ce.TP_COR_RACA == 2].mean(),2))\r\n",
    "print('Média Matemática (Pardo)         : ', round(enem_ce['NU_NOTA_MT'].loc[enem_ce.TP_COR_RACA == 3].mean(),2))\r\n",
    "print('Média Matemática (Amarelo)       : ', round(enem_ce['NU_NOTA_MT'].loc[enem_ce.TP_COR_RACA == 4].mean(),2))\r\n",
    "print('Média Matemática (Indígena)      : ', round(enem_ce['NU_NOTA_MT'].loc[enem_ce.TP_COR_RACA == 5].mean(),2))"
   ],
   "outputs": [
    {
     "output_type": "stream",
     "name": "stdout",
     "text": [
      "Média Matemática (Não Declarados):  506.64\n",
      "Média Matemática (Barnco)        :  552.04\n",
      "Média Matemática (Preto)         :  504.8\n",
      "Média Matemática (Pardo)         :  508.38\n",
      "Média Matemática (Amarelo)       :  519.46\n",
      "Média Matemática (Indígena)      :  486.13\n"
     ]
    }
   ],
   "metadata": {}
  },
  {
   "cell_type": "code",
   "execution_count": 36,
   "source": [
    "#Comparação de Médias de Matemática por Renda declarada\r\n",
    "print('Média Matemática (Sem Renda)                      : ', round(enem_ce['NU_NOTA_MT'].loc[enem_ce.Q006 == 'A'].mean(),2))\r\n",
    "print('Média Matemática (Até R$ 998,00)                  : ', round(enem_ce['NU_NOTA_MT'].loc[enem_ce.Q006 == 'B'].mean(),2))\r\n",
    "print('Média Matemática (De R$ 2.495,01 até R$ 2.994,00) : ', round(enem_ce['NU_NOTA_MT'].loc[enem_ce.Q006 == 'F'].mean(),2))\r\n",
    "print('Média Matemática (De R$ 2.994,01 até R$ 3.992,00) : ', round(enem_ce['NU_NOTA_MT'].loc[enem_ce.Q006 == 'G'].mean(),2))  \r\n",
    "print('Média Matemática (De R$ 5.988,01 até R$ 6.986,00) : ', round(enem_ce['NU_NOTA_MT'].loc[enem_ce.Q006 == 'J'].mean(),2))\r\n",
    "print('Média Matemática (Mais de R$ 19.960,00)           : ', round(enem_ce['NU_NOTA_MT'].loc[enem_ce.Q006 == 'Q'].mean(),2))"
   ],
   "outputs": [
    {
     "output_type": "stream",
     "name": "stdout",
     "text": [
      "Média Matemática (Sem Renda)                      :  474.23\n",
      "Média Matemática (Até R$ 998,00)                  :  487.05\n",
      "Média Matemática (De R$ 2.495,01 até R$ 2.994,00) :  587.22\n",
      "Média Matemática (De R$ 2.994,01 até R$ 3.992,00) :  589.39\n",
      "Média Matemática (De R$ 5.988,01 até R$ 6.986,00) :  636.48\n",
      "Média Matemática (Mais de R$ 19.960,00)           :  691.62\n"
     ]
    }
   ],
   "metadata": {}
  },
  {
   "cell_type": "markdown",
   "source": [
    "## PARTE III - Carga dos dados\r\n",
    "### Realizando Carga de dados no SQlite - Banco de dados Portátil"
   ],
   "metadata": {}
  },
  {
   "cell_type": "code",
   "execution_count": 37,
   "source": [
    "#Importando biblioteca SQLite\r\n",
    "import sqlite3 as lite"
   ],
   "outputs": [],
   "metadata": {}
  },
  {
   "cell_type": "code",
   "execution_count": 56,
   "source": [
    "#Cria/Conceta Banco de Dados enemce_2019.db e o cursor de navegação interna\r\n",
    "con = lite.connect(\"enemce_2019.db\")\r\n",
    "cur = con.cursor()"
   ],
   "outputs": [],
   "metadata": {}
  },
  {
   "cell_type": "code",
   "execution_count": 57,
   "source": [
    "# Deletando Tabela com mesmo nome caso eista\r\n",
    "cur.execute(\"DROP TABLE IF EXISTS enem19\")\r\n",
    "con.commit()"
   ],
   "outputs": [],
   "metadata": {}
  },
  {
   "cell_type": "code",
   "execution_count": 58,
   "source": [
    "# criando a tabela (enem19)\r\n",
    "cur.execute(\"\"\"\r\n",
    "CREATE TABLE IF NOT EXISTS enem19 (\r\n",
    "        NU_INSCRICAO INT,\r\n",
    "        SG_UF_RESIDENCIA VARCHAR(2),\r\n",
    "        TP_SEXO VARCHAR(1),\r\n",
    "        TP_COR_RACA INT,\r\n",
    "        TP_ESCOLA INT,\r\n",
    "        TP_ENSINO INT,\r\n",
    "        NU_NOTA_CN FLOAT,\r\n",
    "        NU_NOTA_MT FLOAT,\r\n",
    "        Q001 VARCHAR(1),\r\n",
    "        Q002 VARCHAR(1),\r\n",
    "        Q004 VARCHAR(1),\r\n",
    "        Q005 INT,\r\n",
    "        Q006 VARCHAR(1) );\r\n",
    "\"\"\")\r\n",
    "con.commit()"
   ],
   "outputs": [],
   "metadata": {}
  },
  {
   "cell_type": "code",
   "execution_count": 61,
   "source": [
    "#Carregando Dataframe Pandas na Tabela SQLite\r\n",
    "cur.executemany(\"INSERT INTO enem19 VALUES (?,?,?,?,?,?,?,?,?,?,?,?,?);\", enem_ce.values.tolist())\r\n",
    "con.commit()"
   ],
   "outputs": [],
   "metadata": {}
  },
  {
   "cell_type": "code",
   "execution_count": 68,
   "source": [
    "#Lendo os Dados do Banco de Dados\r\n",
    "cur.execute(\"SELECT count(*)  FROM enem19;\")\r\n",
    "for linha in cur.fetchall():\r\n",
    "    print(f'Número de Registros: {linha[0]}')"
   ],
   "outputs": [
    {
     "output_type": "stream",
     "name": "stdout",
     "text": [
      "Número de Registros: (222780,)\n"
     ]
    }
   ],
   "metadata": {}
  },
  {
   "cell_type": "code",
   "execution_count": 55,
   "source": [
    "#Fecha a Conexão com o Banco de Dados\r\n",
    "con.close()"
   ],
   "outputs": [],
   "metadata": {}
  }
 ]
}