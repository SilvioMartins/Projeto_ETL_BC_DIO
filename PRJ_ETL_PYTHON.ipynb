{
 "metadata": {
  "language_info": {
   "codemirror_mode": {
    "name": "ipython",
    "version": 3
   },
   "file_extension": ".py",
   "mimetype": "text/x-python",
   "name": "python",
   "nbconvert_exporter": "python",
   "pygments_lexer": "ipython3",
   "version": "3.9.4"
  },
  "orig_nbformat": 4,
  "kernelspec": {
   "name": "python3",
   "display_name": "Python 3.9.4 64-bit"
  },
  "interpreter": {
   "hash": "99895b1fb5777b62bbca485c28947babc49174d82e5a9d257e359cdc2b435eee"
  }
 },
 "nbformat": 4,
 "nbformat_minor": 2,
 "cells": [
  {
   "cell_type": "markdown",
   "source": [
    "# PROJETO ETL - Análise do desempenho dos alunos do Ceará no ENEM 2019\r\n",
    "\r\n",
    "## PARTE I - Extraindo os dados"
   ],
   "metadata": {}
  },
  {
   "cell_type": "code",
   "execution_count": null,
   "source": [
    "#Instalação/Aualizaç da bilbioteca dask para gerenciamento de datframe de grandes tamanhos. Será Utilizada ao invés do Pandas \r\n",
    "#devido ao tamanho do arquivo .csv\r\n",
    "!pip install dask\r\n",
    "!pip install --upgrade pandas"
   ],
   "outputs": [],
   "metadata": {}
  },
  {
   "cell_type": "markdown",
   "source": [
    "### 1.0 - Importação de bibliotecas Úteis"
   ],
   "metadata": {}
  },
  {
   "cell_type": "code",
   "execution_count": 23,
   "source": [
    "#importação de Bibliotecas\r\n",
    "import dask.dataframe as dd\r\n",
    "import pandas as pd\r\n",
    "import zipfile\r\n",
    "import requests\r\n",
    "import os\r\n",
    "from io import BytesIO"
   ],
   "outputs": [],
   "metadata": {}
  },
  {
   "cell_type": "markdown",
   "source": [
    "### 2.0 - Preparação do Ambiente (Criação de Pasta) e Efetuando Download do Arquivo do Site do Inep"
   ],
   "metadata": {}
  },
  {
   "cell_type": "code",
   "execution_count": 4,
   "source": [
    "#Criar estrutura de pastas para armazenamento do arquivo baixado\r\n",
    "os.makedirs('./enem2019', exist_ok=True)"
   ],
   "outputs": [],
   "metadata": {}
  },
  {
   "cell_type": "code",
   "execution_count": 5,
   "source": [
    "#Baixando o arquivo do link abaixo e descompactando na pasta /enem2019\r\n",
    "#URL dos dados\r\n",
    "url = 'https://download.inep.gov.br/microdados/microdados_enem_2019.zip'\r\n",
    "#Baixando o Arquivo .ZIP\r\n",
    "print('Baixando o Arquivo....')\r\n",
    "filebytes = BytesIO(\r\n",
    "    requests.get(url).content\r\n",
    ")\r\n",
    "#Descompatando na pasta destino\r\n",
    "print('Download Concluído. Aguarde a descompactação....')\r\n",
    "myzip = zipfile.ZipFile(filebytes).extractall('./enem2019')\r\n",
    "print('Processamento Concluído.')"
   ],
   "outputs": [],
   "metadata": {}
  },
  {
   "cell_type": "markdown",
   "source": [
    "### 3.0 - Lendo os dados em lote (Arquivo Muito Grande) e colocando em um dataframe já Filtrado por Estado = Ceará"
   ],
   "metadata": {}
  },
  {
   "cell_type": "code",
   "execution_count": 2,
   "source": [
    "# Cria dataframe com mais memória devido ao tamanho do arquivo\r\n",
    "enem = dd.read_csv(\r\n",
    "    './enem2019/DADOS/microdados_enem_2019.csv',\r\n",
    "    sep = ';' , \r\n",
    "    decimal=',' ,\r\n",
    "    dtype={'CO_MUNICIPIO_NASCIMENTO': 'float64',\r\n",
    "            'CO_UF_NASCIMENTO': 'float64',\r\n",
    "            'NU_IDADE': 'float64',\r\n",
    "            'NO_MUNICIPIO_ESC': 'object',\r\n",
    "            'SG_UF_ESC': 'object'},\r\n",
    "    encoding='latin1'\r\n",
    ")"
   ],
   "outputs": [],
   "metadata": {}
  },
  {
   "cell_type": "code",
   "execution_count": 3,
   "source": [
    "#Recriando o Dataframe Só para Ceará = Processo de Filtragem\r\n",
    "enem = enem.loc[enem.SG_UF_RESIDENCIA == 'CE']"
   ],
   "outputs": [],
   "metadata": {}
  },
  {
   "cell_type": "markdown",
   "source": [
    "## PARTE II - Transformando os dados"
   ],
   "metadata": {}
  },
  {
   "cell_type": "code",
   "execution_count": 12,
   "source": [
    "#Recriando o Dataframe só com as colunas necessárias\r\n",
    "enem_ce = enem[['NU_INSCRICAO',         \r\n",
    "                'SG_UF_RESIDENCIA',     \r\n",
    "                'TP_SEXO',\r\n",
    "                'TP_COR_RACA',\r\n",
    "                'TP_ESCOLA',\r\n",
    "                'TP_ENSINO',\r\n",
    "                'NU_NOTA_CN',\r\n",
    "                'NU_NOTA_MT',\r\n",
    "                'Q001',\r\n",
    "                'Q002',\r\n",
    "                'Q004',\r\n",
    "                'Q005',\r\n",
    "                'Q006']].compute()"
   ],
   "outputs": [],
   "metadata": {}
  },
  {
   "cell_type": "code",
   "execution_count": 31,
   "source": [
    "#Analisando Quantidade de Nulos no Dataframe\r\n",
    "enem_ce.isnull().sum()"
   ],
   "outputs": [
    {
     "output_type": "execute_result",
     "data": {
      "text/plain": [
       "NU_INSCRICAO            0\n",
       "SG_UF_RESIDENCIA        0\n",
       "TP_SEXO                 0\n",
       "TP_COR_RACA             0\n",
       "TP_ESCOLA               0\n",
       "TP_ENSINO           75865\n",
       "NU_NOTA_CN              0\n",
       "NU_NOTA_MT              0\n",
       "Q001                    0\n",
       "Q002                    0\n",
       "Q004                    0\n",
       "Q005                    0\n",
       "Q006                    0\n",
       "dtype: int64"
      ]
     },
     "metadata": {},
     "execution_count": 31
    }
   ],
   "metadata": {}
  },
  {
   "cell_type": "code",
   "execution_count": 15,
   "source": [
    "#Cria backuo do DataFrame\r\n",
    "Enem_bkp = enem_ce"
   ],
   "outputs": [],
   "metadata": {}
  },
  {
   "cell_type": "code",
   "execution_count": 29,
   "source": [
    "#Apagando as Linhas com Notas Zeradas - Excluindos Alunos Faltantes\r\n",
    "enem_ce = enem_ce.dropna(subset=['NU_NOTA_MT'])"
   ],
   "outputs": [],
   "metadata": {}
  },
  {
   "cell_type": "code",
   "execution_count": 30,
   "source": [
    "#Quantidade de Linhas\r\n",
    "enem_ce.shape[0]"
   ],
   "outputs": [
    {
     "output_type": "execute_result",
     "data": {
      "text/plain": [
       "222780"
      ]
     },
     "metadata": {},
     "execution_count": 30
    }
   ],
   "metadata": {}
  },
  {
   "cell_type": "code",
   "execution_count": 38,
   "source": [
    "#Verificando os Tipos de Dados do Dataframe\r\n",
    "enem_ce.dtypes"
   ],
   "outputs": [
    {
     "output_type": "execute_result",
     "data": {
      "text/plain": [
       "NU_INSCRICAO          int64\n",
       "SG_UF_RESIDENCIA     object\n",
       "TP_SEXO              object\n",
       "TP_COR_RACA           int64\n",
       "TP_ESCOLA             int64\n",
       "TP_ENSINO           float64\n",
       "NU_NOTA_CN          float64\n",
       "NU_NOTA_MT          float64\n",
       "Q001                 object\n",
       "Q002                 object\n",
       "Q004                 object\n",
       "Q005                  int64\n",
       "Q006                 object\n",
       "dtype: object"
      ]
     },
     "metadata": {},
     "execution_count": 38
    }
   ],
   "metadata": {}
  },
  {
   "cell_type": "code",
   "execution_count": 37,
   "source": [
    "#Atualizando Tipos de Dados de Colunas Importantes\r\n",
    "enem_ce['NU_NOTA_CN'] = enem_ce['NU_NOTA_CN'].astype('float')\r\n",
    "enem_ce['NU_NOTA_MT'] = enem_ce['NU_NOTA_MT'].astype('float')"
   ],
   "outputs": [],
   "metadata": {}
  },
  {
   "cell_type": "code",
   "execution_count": 39,
   "source": [
    "#Analise detalhada do Dataframe\r\n",
    "enem_ce.describe()"
   ],
   "outputs": [
    {
     "output_type": "execute_result",
     "data": {
      "text/plain": [
       "       NU_INSCRICAO    TP_COR_RACA      TP_ESCOLA      TP_ENSINO  \\\n",
       "count  2.227800e+05  222780.000000  222780.000000  146915.000000   \n",
       "mean   1.900030e+11       2.443016       1.461379       1.002001   \n",
       "std    1.408311e+06       0.956225       0.573180       0.044690   \n",
       "min    1.900010e+11       0.000000       1.000000       1.000000   \n",
       "25%    1.900019e+11       2.000000       1.000000       1.000000   \n",
       "50%    1.900028e+11       3.000000       1.000000       1.000000   \n",
       "75%    1.900042e+11       3.000000       2.000000       1.000000   \n",
       "max    1.900061e+11       5.000000       3.000000       2.000000   \n",
       "\n",
       "          NU_NOTA_CN     NU_NOTA_MT           Q005  \n",
       "count  222780.000000  222780.000000  222780.000000  \n",
       "mean      468.256969     517.529065       4.105333  \n",
       "std        75.815679     109.034242       1.450371  \n",
       "min         0.000000       0.000000       1.000000  \n",
       "25%       409.300000     431.900000       3.000000  \n",
       "50%       457.500000     492.700000       4.000000  \n",
       "75%       520.800000     587.800000       5.000000  \n",
       "max       841.800000     985.500000      20.000000  "
      ],
      "text/html": [
       "<div>\n",
       "<style scoped>\n",
       "    .dataframe tbody tr th:only-of-type {\n",
       "        vertical-align: middle;\n",
       "    }\n",
       "\n",
       "    .dataframe tbody tr th {\n",
       "        vertical-align: top;\n",
       "    }\n",
       "\n",
       "    .dataframe thead th {\n",
       "        text-align: right;\n",
       "    }\n",
       "</style>\n",
       "<table border=\"1\" class=\"dataframe\">\n",
       "  <thead>\n",
       "    <tr style=\"text-align: right;\">\n",
       "      <th></th>\n",
       "      <th>NU_INSCRICAO</th>\n",
       "      <th>TP_COR_RACA</th>\n",
       "      <th>TP_ESCOLA</th>\n",
       "      <th>TP_ENSINO</th>\n",
       "      <th>NU_NOTA_CN</th>\n",
       "      <th>NU_NOTA_MT</th>\n",
       "      <th>Q005</th>\n",
       "    </tr>\n",
       "  </thead>\n",
       "  <tbody>\n",
       "    <tr>\n",
       "      <th>count</th>\n",
       "      <td>2.227800e+05</td>\n",
       "      <td>222780.000000</td>\n",
       "      <td>222780.000000</td>\n",
       "      <td>146915.000000</td>\n",
       "      <td>222780.000000</td>\n",
       "      <td>222780.000000</td>\n",
       "      <td>222780.000000</td>\n",
       "    </tr>\n",
       "    <tr>\n",
       "      <th>mean</th>\n",
       "      <td>1.900030e+11</td>\n",
       "      <td>2.443016</td>\n",
       "      <td>1.461379</td>\n",
       "      <td>1.002001</td>\n",
       "      <td>468.256969</td>\n",
       "      <td>517.529065</td>\n",
       "      <td>4.105333</td>\n",
       "    </tr>\n",
       "    <tr>\n",
       "      <th>std</th>\n",
       "      <td>1.408311e+06</td>\n",
       "      <td>0.956225</td>\n",
       "      <td>0.573180</td>\n",
       "      <td>0.044690</td>\n",
       "      <td>75.815679</td>\n",
       "      <td>109.034242</td>\n",
       "      <td>1.450371</td>\n",
       "    </tr>\n",
       "    <tr>\n",
       "      <th>min</th>\n",
       "      <td>1.900010e+11</td>\n",
       "      <td>0.000000</td>\n",
       "      <td>1.000000</td>\n",
       "      <td>1.000000</td>\n",
       "      <td>0.000000</td>\n",
       "      <td>0.000000</td>\n",
       "      <td>1.000000</td>\n",
       "    </tr>\n",
       "    <tr>\n",
       "      <th>25%</th>\n",
       "      <td>1.900019e+11</td>\n",
       "      <td>2.000000</td>\n",
       "      <td>1.000000</td>\n",
       "      <td>1.000000</td>\n",
       "      <td>409.300000</td>\n",
       "      <td>431.900000</td>\n",
       "      <td>3.000000</td>\n",
       "    </tr>\n",
       "    <tr>\n",
       "      <th>50%</th>\n",
       "      <td>1.900028e+11</td>\n",
       "      <td>3.000000</td>\n",
       "      <td>1.000000</td>\n",
       "      <td>1.000000</td>\n",
       "      <td>457.500000</td>\n",
       "      <td>492.700000</td>\n",
       "      <td>4.000000</td>\n",
       "    </tr>\n",
       "    <tr>\n",
       "      <th>75%</th>\n",
       "      <td>1.900042e+11</td>\n",
       "      <td>3.000000</td>\n",
       "      <td>2.000000</td>\n",
       "      <td>1.000000</td>\n",
       "      <td>520.800000</td>\n",
       "      <td>587.800000</td>\n",
       "      <td>5.000000</td>\n",
       "    </tr>\n",
       "    <tr>\n",
       "      <th>max</th>\n",
       "      <td>1.900061e+11</td>\n",
       "      <td>5.000000</td>\n",
       "      <td>3.000000</td>\n",
       "      <td>2.000000</td>\n",
       "      <td>841.800000</td>\n",
       "      <td>985.500000</td>\n",
       "      <td>20.000000</td>\n",
       "    </tr>\n",
       "  </tbody>\n",
       "</table>\n",
       "</div>"
      ]
     },
     "metadata": {},
     "execution_count": 39
    }
   ],
   "metadata": {}
  },
  {
   "cell_type": "markdown",
   "source": [
    "## PARTE III - Carregamento dos dados"
   ],
   "metadata": {}
  }
 ]
}