{
 "metadata": {
  "language_info": {
   "codemirror_mode": {
    "name": "ipython",
    "version": 3
   },
   "file_extension": ".py",
   "mimetype": "text/x-python",
   "name": "python",
   "nbconvert_exporter": "python",
   "pygments_lexer": "ipython3",
   "version": "3.9.4"
  },
  "orig_nbformat": 4,
  "kernelspec": {
   "name": "python3",
   "display_name": "Python 3.9.4 64-bit"
  },
  "interpreter": {
   "hash": "99895b1fb5777b62bbca485c28947babc49174d82e5a9d257e359cdc2b435eee"
  }
 },
 "nbformat": 4,
 "nbformat_minor": 2,
 "cells": [
  {
   "cell_type": "markdown",
   "source": [
    "## PARTE I - Extração Dados ENEM 2019 \r\n",
    "https://download.inep.gov.br/microdados/microdados_enem_2019.zip"
   ],
   "metadata": {}
  },
  {
   "cell_type": "code",
   "execution_count": null,
   "source": [
    "#Instalação da bilbioteca dask para gerenciamento de datframe de grandes tamanhos. Será Utilizada ao invés do Pandas \r\n",
    "#devido ao tamanho do arquivo .csv\r\n",
    "!pip install dask"
   ],
   "outputs": [],
   "metadata": {}
  },
  {
   "cell_type": "markdown",
   "source": [
    "### 1.0 - Importação de bibliotecas Úteis"
   ],
   "metadata": {}
  },
  {
   "cell_type": "code",
   "execution_count": 1,
   "source": [
    "#importação de Bibliotecas\r\n",
    "import dask.dataframe as dd\r\n",
    "import zipfile\r\n",
    "import requests\r\n",
    "import os\r\n",
    "from io import BytesIO"
   ],
   "outputs": [],
   "metadata": {}
  },
  {
   "cell_type": "markdown",
   "source": [
    "### 2.0 - Preparação do Ambiente (Criação de Pasta) e Efetuando Download do Arquivo do Site do Inep"
   ],
   "metadata": {}
  },
  {
   "cell_type": "code",
   "execution_count": 4,
   "source": [
    "#Criar estrutura de pastas para armazenamento do arquivo baixado\r\n",
    "os.makedirs('./enem2019', exist_ok=True)"
   ],
   "outputs": [],
   "metadata": {}
  },
  {
   "cell_type": "code",
   "execution_count": 5,
   "source": [
    "#Baixando o arquivo do link abaixo e descompactando na pasta /enem2019\r\n",
    "#URL dos dados\r\n",
    "url = 'https://download.inep.gov.br/microdados/microdados_enem_2019.zip'\r\n",
    "#Baixando o Arquivo .ZIP\r\n",
    "print('Baixando o Arquivo....')\r\n",
    "filebytes = BytesIO(\r\n",
    "    requests.get(url).content\r\n",
    ")\r\n",
    "#Descompatando na pasta destino\r\n",
    "print('Download Concluído. Aguarde a descompactação....')\r\n",
    "myzip = zipfile.ZipFile(filebytes).extractall('./enem2019')\r\n",
    "print('Processamento Concluído.')"
   ],
   "outputs": [],
   "metadata": {}
  },
  {
   "cell_type": "markdown",
   "source": [
    "### 3.0 - Lendo os dados em lote (Arquivo Muito Grande) e colocando em um dataframe já Filtrado por Estado = Ceará"
   ],
   "metadata": {}
  },
  {
   "cell_type": "code",
   "execution_count": 7,
   "source": [
    "# Cria dataframe com mais memória devido ao tamanho do arquivo\r\n",
    "enem = dd.read_csv(\r\n",
    "    './enem2019/DADOS/microdados_enem_2019.csv',\r\n",
    "    sep = ';' , \r\n",
    "    decimal=',' ,\r\n",
    "    dtype={'CO_MUNICIPIO_NASCIMENTO': 'float64',\r\n",
    "            'CO_UF_NASCIMENTO': 'float64',\r\n",
    "            'NO_MUNICIPIO_ESC': 'object',\r\n",
    "            'SG_UF_ESC': 'object'},\r\n",
    "    encoding='latin1'\r\n",
    ")"
   ],
   "outputs": [],
   "metadata": {}
  },
  {
   "cell_type": "code",
   "execution_count": 11,
   "source": [
    "#Recriando o Dataframe Só para Ceará.\r\n",
    "enem = enem.loc[enem.SG_UF_RESIDENCIA == 'CE']"
   ],
   "outputs": [],
   "metadata": {}
  }
 ]
}